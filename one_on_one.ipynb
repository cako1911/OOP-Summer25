{
 "cells": [
  {
   "cell_type": "code",
   "execution_count": 1,
   "id": "b3195b57",
   "metadata": {},
   "outputs": [
    {
     "name": "stdout",
     "output_type": "stream",
     "text": [
      "Ata\n"
     ]
    }
   ],
   "source": [
    "print(\"Ata\")"
   ]
  },
  {
   "cell_type": "code",
   "execution_count": 2,
   "id": "6275a772",
   "metadata": {},
   "outputs": [],
   "source": [
    "#str\n",
    "x = \"ata\"\n",
    "#int\n",
    "y = 5\n",
    "#float\n",
    "z = 2.0"
   ]
  },
  {
   "cell_type": "code",
   "execution_count": 9,
   "id": "358fb320",
   "metadata": {},
   "outputs": [
    {
     "name": "stdout",
     "output_type": "stream",
     "text": [
      "<class 'list'>\n",
      "bmw\n",
      "volvo\n",
      "mercedes\n"
     ]
    }
   ],
   "source": [
    "cars = [\"bmw\",\"volvo\", \"mercedes\"]\n",
    "print(type(cars))\n",
    "\n",
    "for car in cars:\n",
    "    print(car)"
   ]
  },
  {
   "cell_type": "code",
   "execution_count": null,
   "id": "616601c8",
   "metadata": {},
   "outputs": [
    {
     "name": "stdout",
     "output_type": "stream",
     "text": [
      "{'brand': 'bmw', 'year': 2020}\n"
     ]
    }
   ],
   "source": [
    "bmw = {\n",
    "    \"brand\": \"bmw\",\n",
    "    \"year\": 2020\n",
    "}\n",
    "print(bmw)"
   ]
  }
 ],
 "metadata": {
  "kernelspec": {
   "display_name": "Python 3",
   "language": "python",
   "name": "python3"
  },
  "language_info": {
   "codemirror_mode": {
    "name": "ipython",
    "version": 3
   },
   "file_extension": ".py",
   "mimetype": "text/x-python",
   "name": "python",
   "nbconvert_exporter": "python",
   "pygments_lexer": "ipython3",
   "version": "3.12.1"
  }
 },
 "nbformat": 4,
 "nbformat_minor": 5
}
