class House:
    def __init__(self, location, floors, furnitures):
        self.location = location
        self.floors = floors
        self.furnitures = furnitures

    def __str__(self):
        return f"Location: {self.location}, Floors: {self.floors}, Furnitures: {self.furnitures}"

house1 = House("Rejitana 16", 3, ["Lamp", "Sofa", "Boardmarker"])
house2 = House("Irysowa 22", 9, ["Tablespoon", "Mixer", "Dj Setup"])

print(house1)
print(house2)