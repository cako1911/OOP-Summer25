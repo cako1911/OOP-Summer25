{
  "metadata": {
    "kernelspec": {
      "name": "python",
      "display_name": "Python (Pyodide)",
      "language": "python"
    },
    "language_info": {
      "codemirror_mode": {
        "name": "python",
        "version": 3
      },
      "file_extension": ".py",
      "mimetype": "text/x-python",
      "name": "python",
      "nbconvert_exporter": "python",
      "pygments_lexer": "ipython3",
      "version": "3.8"
    }
  },
  "nbformat_minor": 5,
  "nbformat": 4,
  "cells": [
    {
      "id": "da5847ad-212a-4d25-b3d5-38c076d93da7",
      "cell_type": "code",
      "source": "class Animal:\n    def __init__(self):\n      print(\"There are new animals\")\nBear = Animal()\nBird = Animal()",
      "metadata": {
        "trusted": true
      },
      "outputs": [
        {
          "name": "stdout",
          "output_type": "stream",
          "text": "There are new animals\nThere are new animals\n"
        }
      ],
      "execution_count": 20
    },
    {
      "id": "f17a3da1-3857-4a5c-ace7-f4b15c8b1c08",
      "cell_type": "code",
      "source": "class Animals:\n    def __init__(self, name):\n        self.name = name\na1 = Animals(\"Bear\")\nprint(a1.name)",
      "metadata": {
        "trusted": true
      },
      "outputs": [
        {
          "name": "stdout",
          "output_type": "stream",
          "text": "Bear\n"
        }
      ],
      "execution_count": 17
    },
    {
      "id": "c5a7dd02-5910-4feb-a41c-d6ef77f143a2",
      "cell_type": "code",
      "source": "class Cars:\n    def __init__(self, brand, year):\n        self.brand = brand\n        self.year = year\n    def __str__(self):\n      return f\"{self.brand}, {self.year}\"   \nc1 = Cars(\"BMW\", 2016)\nc2 = Cars(\"Volvo\", 2011)\nc3 = Cars(\"Lada\", 1926)\nprint(c1)\nprint(c2)\nprint(c3)\n",
      "metadata": {
        "trusted": true
      },
      "outputs": [
        {
          "name": "stdout",
          "output_type": "stream",
          "text": "BMW, 2016\nVolvo, 2011\nLada, 1926\n"
        }
      ],
      "execution_count": 15
    },
    {
      "id": "7e7a7fca-6528-4729-a6d1-35d6147e60e2",
      "cell_type": "code",
      "source": "House = [{\n  \"location\": 'Rejitana 16',\n  \"floors\": 3,\n  \"furnitures\": ['Lamp', 'Sofa', 'Boardmarker'],\n},\n{\n  'location': 'Irysowa 22',\n  'floors': 9,\n  'furnitures': ['Tablespoon', 'Mixer', 'Dj Setup'],\n}]\nprint(House)",
      "metadata": {
        "trusted": true
      },
      "outputs": [
        {
          "name": "stdout",
          "output_type": "stream",
          "text": "[{'location': 'Rejitana 16', 'floors': 3, 'furnitures': ['Lamp', 'Sofa', 'Boardmarker']}, {'location': 'Irysowa 22', 'floors': 9, 'furnitures': ['Tablespoon', 'Mixer', 'Dj Setup']}]\n"
        }
      ],
      "execution_count": 35
    },
    {
      "id": "78dcca95-63af-4b65-b4c8-bac7a5f2eb4e",
      "cell_type": "code",
      "source": "",
      "metadata": {
        "trusted": true
      },
      "outputs": [],
      "execution_count": null
    }
  ]
}